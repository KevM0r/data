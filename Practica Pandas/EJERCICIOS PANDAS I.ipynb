{
 "cells": [
  {
   "cell_type": "markdown",
   "metadata": {},
   "source": [
    "<center> <h1>Universidad Nacional de San Agustín de Arequipa</h1> </center> \n",
    "<center> <h1>Escuela Profesional de Ingeniería de Telecomunicaciones</h1> </center> \n",
    "\n",
    "<center> <h1> </h1> </center> \n",
    "\n",
    "<center><img src=\"https://user-images.githubusercontent.com/19308295/115939517-f1c6fe80-a463-11eb-989c-812ab4942586.png\" width=\"380\" height=\"4200\"></center>"
   ]
  },
  {
   "cell_type": "markdown",
   "metadata": {},
   "source": [
    "<center> <h2>Ingeniero Renzo Bolivar - Docente DAIE</h2> </center> "
   ]
  },
  {
   "cell_type": "markdown",
   "metadata": {},
   "source": [
    "<center> <h1>Curso : Programación I</h1> </center> "
   ]
  },
  {
   "cell_type": "markdown",
   "metadata": {},
   "source": [
    "<center> <h1> GRUPO: 1 </h1> </center> "
   ]
  },
  {
   "cell_type": "markdown",
   "metadata": {},
   "source": [
    "<center> <h2>INTEGRANTES:</h2> </center> \n",
    "\n",
    "<center> <h2>Marin Chiclla, Kevin Nelzon</h2> </center> \n",
    "\n",
    "<center> <h2></h2> </center> \n",
    "\n",
    "<center> <h2></h2> </center> \n",
    "\n",
    "<center> <h2></h2> </center> \n",
    " "
   ]
  },
  {
   "cell_type": "markdown",
   "metadata": {},
   "source": [
    "![linea 1](https://user-images.githubusercontent.com/19308295/115926252-2b8a0c00-a448-11eb-9d9c-b43beaf0ff68.png)"
   ]
  },
  {
   "cell_type": "markdown",
   "metadata": {},
   "source": [
    "![640px-Pandas_logo svg](https://user-images.githubusercontent.com/19308295/119273971-1b925300-bbd3-11eb-9705-fa3a404af0e1.png)"
   ]
  },
  {
   "cell_type": "markdown",
   "metadata": {},
   "source": [
    "![linea 1](https://user-images.githubusercontent.com/19308295/115926252-2b8a0c00-a448-11eb-9d9c-b43beaf0ff68.png)"
   ]
  },
  {
   "cell_type": "markdown",
   "metadata": {},
   "source": [
    "<div style=\"text-align: center;\">\n",
    "    <h1><font color=\"#33A5FF\">EJERCICIOS</font></h1>\n",
    "</div>\n"
   ]
  },
  {
   "cell_type": "markdown",
   "metadata": {},
   "source": [
    "### Ejercicio 1 - Investigar Como? Abrir archivo `xlsx`"
   ]
  },
  {
   "cell_type": "markdown",
   "metadata": {},
   "source": [
    "<div class=\"well\">Abrilr el archivo <code>titanic.xlsx</code> (archivo en carpeta /data)\n",
    "    \n",
    "   1.- <strong>Usar nueva librería!!.</strong>\n",
    "\n",
    "   2.- <strong>Explorar la data.</strong>\n",
    "</div>"
   ]
  },
  {
   "cell_type": "markdown",
   "metadata": {},
   "source": [
    "<center> <h3>SOLUCIÓN</h3> </center> "
   ]
  },
  {
   "cell_type": "markdown",
   "metadata": {},
   "source": [
    "**Importamos las librerías básicas**"
   ]
  },
  {
   "cell_type": "code",
   "execution_count": 1,
   "metadata": {},
   "outputs": [],
   "source": [
    "import numpy as np\n",
    "import pandas as pd"
   ]
  },
  {
   "cell_type": "markdown",
   "metadata": {},
   "source": [
    "**Importamos la librería \"seaborn\" que nos permitirá abrir un archivo Excel**"
   ]
  },
  {
   "cell_type": "code",
   "execution_count": 2,
   "metadata": {},
   "outputs": [],
   "source": [
    "import seaborn as sns"
   ]
  },
  {
   "cell_type": "markdown",
   "metadata": {},
   "source": [
    "**Exploramos los archivos Excel en la carpeta Data**"
   ]
  },
  {
   "cell_type": "markdown",
   "metadata": {},
   "source": [
    "**titanic**"
   ]
  },
  {
   "cell_type": "code",
   "execution_count": 3,
   "metadata": {},
   "outputs": [],
   "source": [
    "titanic = pd.read_excel('data/titanic.xlsx')"
   ]
  },
  {
   "cell_type": "code",
   "execution_count": 4,
   "metadata": {},
   "outputs": [
    {
     "data": {
      "text/html": [
       "<div>\n",
       "<style scoped>\n",
       "    .dataframe tbody tr th:only-of-type {\n",
       "        vertical-align: middle;\n",
       "    }\n",
       "\n",
       "    .dataframe tbody tr th {\n",
       "        vertical-align: top;\n",
       "    }\n",
       "\n",
       "    .dataframe thead th {\n",
       "        text-align: right;\n",
       "    }\n",
       "</style>\n",
       "<table border=\"1\" class=\"dataframe\">\n",
       "  <thead>\n",
       "    <tr style=\"text-align: right;\">\n",
       "      <th></th>\n",
       "      <th>Id_Pasajero</th>\n",
       "      <th>Survived</th>\n",
       "      <th>Clase</th>\n",
       "      <th>Nombre</th>\n",
       "      <th>Sexo</th>\n",
       "      <th>Edad</th>\n",
       "      <th>Familiares</th>\n",
       "      <th>Tiquete</th>\n",
       "      <th>Tarifa</th>\n",
       "      <th>Cabina</th>\n",
       "      <th>Embarcado</th>\n",
       "    </tr>\n",
       "  </thead>\n",
       "  <tbody>\n",
       "    <tr>\n",
       "      <th>0</th>\n",
       "      <td>1</td>\n",
       "      <td>0</td>\n",
       "      <td>3</td>\n",
       "      <td>Braund, Mr. Owen Harris</td>\n",
       "      <td>Masculino</td>\n",
       "      <td>22.0</td>\n",
       "      <td>0</td>\n",
       "      <td>A/5 21171</td>\n",
       "      <td>7.25</td>\n",
       "      <td>NaN</td>\n",
       "      <td>S</td>\n",
       "    </tr>\n",
       "    <tr>\n",
       "      <th>1</th>\n",
       "      <td>2</td>\n",
       "      <td>1</td>\n",
       "      <td>1</td>\n",
       "      <td>Cumings, Mrs. John Bradley (Florence Briggs Th...</td>\n",
       "      <td>Femenino</td>\n",
       "      <td>38.0</td>\n",
       "      <td>0</td>\n",
       "      <td>PC 17599</td>\n",
       "      <td>71.28</td>\n",
       "      <td>C85</td>\n",
       "      <td>C</td>\n",
       "    </tr>\n",
       "    <tr>\n",
       "      <th>2</th>\n",
       "      <td>3</td>\n",
       "      <td>1</td>\n",
       "      <td>3</td>\n",
       "      <td>Heikkinen, Miss. Laina</td>\n",
       "      <td>Femenino</td>\n",
       "      <td>26.0</td>\n",
       "      <td>0</td>\n",
       "      <td>STON/O2. 3101282</td>\n",
       "      <td>7.93</td>\n",
       "      <td>NaN</td>\n",
       "      <td>S</td>\n",
       "    </tr>\n",
       "    <tr>\n",
       "      <th>3</th>\n",
       "      <td>4</td>\n",
       "      <td>1</td>\n",
       "      <td>1</td>\n",
       "      <td>Futrelle, Mrs. Jacques Heath (Lily May Peel)</td>\n",
       "      <td>Femenino</td>\n",
       "      <td>35.0</td>\n",
       "      <td>0</td>\n",
       "      <td>113803</td>\n",
       "      <td>53.10</td>\n",
       "      <td>C123</td>\n",
       "      <td>S</td>\n",
       "    </tr>\n",
       "    <tr>\n",
       "      <th>4</th>\n",
       "      <td>5</td>\n",
       "      <td>0</td>\n",
       "      <td>3</td>\n",
       "      <td>Allen, Mr. William Henry</td>\n",
       "      <td>Masculino</td>\n",
       "      <td>35.0</td>\n",
       "      <td>0</td>\n",
       "      <td>373450</td>\n",
       "      <td>8.05</td>\n",
       "      <td>NaN</td>\n",
       "      <td>S</td>\n",
       "    </tr>\n",
       "    <tr>\n",
       "      <th>...</th>\n",
       "      <td>...</td>\n",
       "      <td>...</td>\n",
       "      <td>...</td>\n",
       "      <td>...</td>\n",
       "      <td>...</td>\n",
       "      <td>...</td>\n",
       "      <td>...</td>\n",
       "      <td>...</td>\n",
       "      <td>...</td>\n",
       "      <td>...</td>\n",
       "      <td>...</td>\n",
       "    </tr>\n",
       "    <tr>\n",
       "      <th>886</th>\n",
       "      <td>887</td>\n",
       "      <td>0</td>\n",
       "      <td>2</td>\n",
       "      <td>Montvila, Rev. Juozas</td>\n",
       "      <td>Masculino</td>\n",
       "      <td>27.0</td>\n",
       "      <td>0</td>\n",
       "      <td>211536</td>\n",
       "      <td>13.00</td>\n",
       "      <td>NaN</td>\n",
       "      <td>S</td>\n",
       "    </tr>\n",
       "    <tr>\n",
       "      <th>887</th>\n",
       "      <td>888</td>\n",
       "      <td>1</td>\n",
       "      <td>1</td>\n",
       "      <td>Graham, Miss. Margaret Edith</td>\n",
       "      <td>Femenino</td>\n",
       "      <td>19.0</td>\n",
       "      <td>0</td>\n",
       "      <td>112053</td>\n",
       "      <td>30.00</td>\n",
       "      <td>B42</td>\n",
       "      <td>S</td>\n",
       "    </tr>\n",
       "    <tr>\n",
       "      <th>888</th>\n",
       "      <td>889</td>\n",
       "      <td>0</td>\n",
       "      <td>3</td>\n",
       "      <td>Johnston, Miss. Catherine Helen \"Carrie\"</td>\n",
       "      <td>Femenino</td>\n",
       "      <td>NaN</td>\n",
       "      <td>2</td>\n",
       "      <td>W./C. 6607</td>\n",
       "      <td>23.45</td>\n",
       "      <td>NaN</td>\n",
       "      <td>S</td>\n",
       "    </tr>\n",
       "    <tr>\n",
       "      <th>889</th>\n",
       "      <td>890</td>\n",
       "      <td>1</td>\n",
       "      <td>1</td>\n",
       "      <td>Behr, Mr. Karl Howell</td>\n",
       "      <td>Masculino</td>\n",
       "      <td>26.0</td>\n",
       "      <td>0</td>\n",
       "      <td>111369</td>\n",
       "      <td>30.00</td>\n",
       "      <td>C148</td>\n",
       "      <td>C</td>\n",
       "    </tr>\n",
       "    <tr>\n",
       "      <th>890</th>\n",
       "      <td>891</td>\n",
       "      <td>0</td>\n",
       "      <td>3</td>\n",
       "      <td>Dooley, Mr. Patrick</td>\n",
       "      <td>Masculino</td>\n",
       "      <td>32.0</td>\n",
       "      <td>0</td>\n",
       "      <td>370376</td>\n",
       "      <td>7.75</td>\n",
       "      <td>NaN</td>\n",
       "      <td>Q</td>\n",
       "    </tr>\n",
       "  </tbody>\n",
       "</table>\n",
       "<p>891 rows × 11 columns</p>\n",
       "</div>"
      ],
      "text/plain": [
       "     Id_Pasajero  Survived  Clase  \\\n",
       "0              1         0      3   \n",
       "1              2         1      1   \n",
       "2              3         1      3   \n",
       "3              4         1      1   \n",
       "4              5         0      3   \n",
       "..           ...       ...    ...   \n",
       "886          887         0      2   \n",
       "887          888         1      1   \n",
       "888          889         0      3   \n",
       "889          890         1      1   \n",
       "890          891         0      3   \n",
       "\n",
       "                                                Nombre       Sexo  Edad  \\\n",
       "0                              Braund, Mr. Owen Harris  Masculino  22.0   \n",
       "1    Cumings, Mrs. John Bradley (Florence Briggs Th...   Femenino  38.0   \n",
       "2                               Heikkinen, Miss. Laina   Femenino  26.0   \n",
       "3         Futrelle, Mrs. Jacques Heath (Lily May Peel)   Femenino  35.0   \n",
       "4                             Allen, Mr. William Henry  Masculino  35.0   \n",
       "..                                                 ...        ...   ...   \n",
       "886                              Montvila, Rev. Juozas  Masculino  27.0   \n",
       "887                       Graham, Miss. Margaret Edith   Femenino  19.0   \n",
       "888           Johnston, Miss. Catherine Helen \"Carrie\"   Femenino   NaN   \n",
       "889                              Behr, Mr. Karl Howell  Masculino  26.0   \n",
       "890                                Dooley, Mr. Patrick  Masculino  32.0   \n",
       "\n",
       "     Familiares           Tiquete  Tarifa Cabina Embarcado  \n",
       "0             0         A/5 21171    7.25    NaN         S  \n",
       "1             0          PC 17599   71.28    C85         C  \n",
       "2             0  STON/O2. 3101282    7.93    NaN         S  \n",
       "3             0            113803   53.10   C123         S  \n",
       "4             0            373450    8.05    NaN         S  \n",
       "..          ...               ...     ...    ...       ...  \n",
       "886           0            211536   13.00    NaN         S  \n",
       "887           0            112053   30.00    B42         S  \n",
       "888           2        W./C. 6607   23.45    NaN         S  \n",
       "889           0            111369   30.00   C148         C  \n",
       "890           0            370376    7.75    NaN         Q  \n",
       "\n",
       "[891 rows x 11 columns]"
      ]
     },
     "execution_count": 4,
     "metadata": {},
     "output_type": "execute_result"
    }
   ],
   "source": [
    "titanic"
   ]
  },
  {
   "cell_type": "markdown",
   "metadata": {},
   "source": [
    "**nota**"
   ]
  },
  {
   "cell_type": "code",
   "execution_count": 5,
   "metadata": {},
   "outputs": [],
   "source": [
    "nota = pd.read_excel('data/nota.xlsx')"
   ]
  },
  {
   "cell_type": "code",
   "execution_count": 6,
   "metadata": {},
   "outputs": [
    {
     "data": {
      "text/html": [
       "<div>\n",
       "<style scoped>\n",
       "    .dataframe tbody tr th:only-of-type {\n",
       "        vertical-align: middle;\n",
       "    }\n",
       "\n",
       "    .dataframe tbody tr th {\n",
       "        vertical-align: top;\n",
       "    }\n",
       "\n",
       "    .dataframe thead th {\n",
       "        text-align: right;\n",
       "    }\n",
       "</style>\n",
       "<table border=\"1\" class=\"dataframe\">\n",
       "  <thead>\n",
       "    <tr style=\"text-align: right;\">\n",
       "      <th></th>\n",
       "      <th>Unnamed: 0</th>\n",
       "      <th>Unnamed: 1</th>\n",
       "      <th>Unnamed: 2</th>\n",
       "      <th>Unnamed: 3</th>\n",
       "      <th>Unnamed: 4</th>\n",
       "      <th>Unnamed: 5</th>\n",
       "      <th>Unnamed: 6</th>\n",
       "    </tr>\n",
       "  </thead>\n",
       "  <tbody>\n",
       "    <tr>\n",
       "      <th>0</th>\n",
       "      <td>NaN</td>\n",
       "      <td>NaN</td>\n",
       "      <td>Alumno</td>\n",
       "      <td>Nota1</td>\n",
       "      <td>Nota2</td>\n",
       "      <td>Nota3</td>\n",
       "      <td>Promedio</td>\n",
       "    </tr>\n",
       "    <tr>\n",
       "      <th>1</th>\n",
       "      <td>NaN</td>\n",
       "      <td>NaN</td>\n",
       "      <td>Maria</td>\n",
       "      <td>18</td>\n",
       "      <td>19</td>\n",
       "      <td>18</td>\n",
       "      <td>18.333333</td>\n",
       "    </tr>\n",
       "    <tr>\n",
       "      <th>2</th>\n",
       "      <td>NaN</td>\n",
       "      <td>NaN</td>\n",
       "      <td>Jose</td>\n",
       "      <td>8</td>\n",
       "      <td>15</td>\n",
       "      <td>11</td>\n",
       "      <td>11.333333</td>\n",
       "    </tr>\n",
       "    <tr>\n",
       "      <th>3</th>\n",
       "      <td>NaN</td>\n",
       "      <td>NaN</td>\n",
       "      <td>Juan</td>\n",
       "      <td>13</td>\n",
       "      <td>12</td>\n",
       "      <td>17</td>\n",
       "      <td>14</td>\n",
       "    </tr>\n",
       "    <tr>\n",
       "      <th>4</th>\n",
       "      <td>NaN</td>\n",
       "      <td>NaN</td>\n",
       "      <td>Luis</td>\n",
       "      <td>10</td>\n",
       "      <td>19</td>\n",
       "      <td>18</td>\n",
       "      <td>15.666667</td>\n",
       "    </tr>\n",
       "    <tr>\n",
       "      <th>5</th>\n",
       "      <td>NaN</td>\n",
       "      <td>NaN</td>\n",
       "      <td>Carlos</td>\n",
       "      <td>16</td>\n",
       "      <td>12</td>\n",
       "      <td>10</td>\n",
       "      <td>12.666667</td>\n",
       "    </tr>\n",
       "    <tr>\n",
       "      <th>6</th>\n",
       "      <td>NaN</td>\n",
       "      <td>NaN</td>\n",
       "      <td>Rosa</td>\n",
       "      <td>7</td>\n",
       "      <td>14</td>\n",
       "      <td>10</td>\n",
       "      <td>10.333333</td>\n",
       "    </tr>\n",
       "    <tr>\n",
       "      <th>7</th>\n",
       "      <td>NaN</td>\n",
       "      <td>NaN</td>\n",
       "      <td>Jorge</td>\n",
       "      <td>9</td>\n",
       "      <td>11</td>\n",
       "      <td>19</td>\n",
       "      <td>13</td>\n",
       "    </tr>\n",
       "    <tr>\n",
       "      <th>8</th>\n",
       "      <td>NaN</td>\n",
       "      <td>NaN</td>\n",
       "      <td>Victor</td>\n",
       "      <td>6</td>\n",
       "      <td>13</td>\n",
       "      <td>10</td>\n",
       "      <td>9.666667</td>\n",
       "    </tr>\n",
       "    <tr>\n",
       "      <th>9</th>\n",
       "      <td>NaN</td>\n",
       "      <td>NaN</td>\n",
       "      <td>Ana</td>\n",
       "      <td>18</td>\n",
       "      <td>19</td>\n",
       "      <td>11</td>\n",
       "      <td>16</td>\n",
       "    </tr>\n",
       "  </tbody>\n",
       "</table>\n",
       "</div>"
      ],
      "text/plain": [
       "   Unnamed: 0  Unnamed: 1 Unnamed: 2 Unnamed: 3 Unnamed: 4 Unnamed: 5  \\\n",
       "0         NaN         NaN     Alumno      Nota1      Nota2      Nota3   \n",
       "1         NaN         NaN      Maria         18         19         18   \n",
       "2         NaN         NaN       Jose          8         15         11   \n",
       "3         NaN         NaN       Juan         13         12         17   \n",
       "4         NaN         NaN       Luis         10         19         18   \n",
       "5         NaN         NaN     Carlos         16         12         10   \n",
       "6         NaN         NaN       Rosa          7         14         10   \n",
       "7         NaN         NaN      Jorge          9         11         19   \n",
       "8         NaN         NaN     Victor          6         13         10   \n",
       "9         NaN         NaN        Ana         18         19         11   \n",
       "\n",
       "  Unnamed: 6  \n",
       "0   Promedio  \n",
       "1  18.333333  \n",
       "2  11.333333  \n",
       "3         14  \n",
       "4  15.666667  \n",
       "5  12.666667  \n",
       "6  10.333333  \n",
       "7         13  \n",
       "8   9.666667  \n",
       "9         16  "
      ]
     },
     "execution_count": 6,
     "metadata": {},
     "output_type": "execute_result"
    }
   ],
   "source": [
    "nota.head(10)                          #Visualizando solo las 10 primeras filas"
   ]
  },
  {
   "cell_type": "markdown",
   "metadata": {},
   "source": [
    "### Ejercicio 2 - Investigar Como? Crear SubConjuntos"
   ]
  },
  {
   "cell_type": "markdown",
   "metadata": {},
   "source": [
    "<div class=\"well\">Crear <strong>Sub Conjuntos</strong> del DataFrame con las columnas: (visualizar solo 5 primeros)\n",
    "   \n",
    "   1.-<strong>Nombre</strong> con <strong>Edad</strong>\n",
    "   \n",
    "   2.-<strong>Sexo</strong> con <strong>Nombre</strong> y <strong>Clase</strong>\n",
    "    \n",
    "</div>"
   ]
  },
  {
   "cell_type": "markdown",
   "metadata": {},
   "source": [
    "<center> <h3>SOLUCIÓN</h3> </center> "
   ]
  },
  {
   "cell_type": "markdown",
   "metadata": {},
   "source": [
    "### 1.-Nombre con Edad"
   ]
  },
  {
   "cell_type": "code",
   "execution_count": 7,
   "metadata": {},
   "outputs": [
    {
     "name": "stdout",
     "output_type": "stream",
     "text": [
      "                                              Nombre  Edad\n",
      "0                            Braund, Mr. Owen Harris    22\n",
      "1  Cumings, Mrs. John Bradley (Florence Briggs Th...    38\n",
      "2                             Heikkinen, Miss. Laina    26\n",
      "3       Futrelle, Mrs. Jacques Heath (Lily May Peel)    35\n",
      "4                           Allen, Mr. William Henry    35\n"
     ]
    }
   ],
   "source": [
    "import pandas as pd\n",
    "\n",
    "# Crear DataFrame con los datos proporcionados\n",
    "data = {\n",
    "    \"Nombre\": [\"Braund, Mr. Owen Harris\", \"Cumings, Mrs. John Bradley (Florence Briggs Thayer)\", \n",
    "               \"Heikkinen, Miss. Laina\", \"Futrelle, Mrs. Jacques Heath (Lily May Peel)\", \n",
    "               \"Allen, Mr. William Henry\"],\n",
    "    \"Edad\": [22, 38, 26, 35, 35]\n",
    "}\n",
    "\n",
    "df = pd.DataFrame(data)\n",
    "\n",
    "# Crear subconjunto con las columnas \"Nombre\" y \"Edad\" y mostrar los primeros 5 registros\n",
    "subconjunto = df[[\"Nombre\", \"Edad\"]].head(5)\n",
    "print(subconjunto)"
   ]
  },
  {
   "cell_type": "markdown",
   "metadata": {},
   "source": [
    "### 2.-Sexo con Nombre y Clase"
   ]
  },
  {
   "cell_type": "code",
   "execution_count": 8,
   "metadata": {},
   "outputs": [
    {
     "name": "stdout",
     "output_type": "stream",
     "text": [
      "     Sexo                                             Nombre  Clase\n",
      "0  Hombre                            Braund, Mr. Owen Harris      3\n",
      "1   Mujer  Cumings, Mrs. John Bradley (Florence Briggs Th...      1\n",
      "2   Mujer                             Heikkinen, Miss. Laina      3\n",
      "3   Mujer       Futrelle, Mrs. Jacques Heath (Lily May Peel)      1\n",
      "4  Hombre                           Allen, Mr. William Henry      3\n"
     ]
    }
   ],
   "source": [
    "import pandas as pd\n",
    "\n",
    "# Crear DataFrame con los datos proporcionados\n",
    "data = {\n",
    "    \"Nombre\": [\"Braund, Mr. Owen Harris\", \"Cumings, Mrs. John Bradley (Florence Briggs Thayer)\", \n",
    "               \"Heikkinen, Miss. Laina\", \"Futrelle, Mrs. Jacques Heath (Lily May Peel)\", \n",
    "               \"Allen, Mr. William Henry\"],\n",
    "    \"Sexo\": [\"Hombre\", \"Mujer\", \"Mujer\", \"Mujer\", \"Hombre\"],\n",
    "    \"Clase\": [3, 1, 3, 1, 3]\n",
    "}\n",
    "\n",
    "df = pd.DataFrame(data)\n",
    "\n",
    "# Crear subconjunto con las columnas \"Sexo\", \"Nombre\" y \"Clase\" y mostrar los primeros 5 registros\n",
    "subconjunto = df[[\"Sexo\", \"Nombre\", \"Clase\"]].head(5)\n",
    "print(subconjunto)"
   ]
  },
  {
   "cell_type": "markdown",
   "metadata": {},
   "source": [
    "### Ejercicio 3 - Investigar Como? Filtrar"
   ]
  },
  {
   "cell_type": "markdown",
   "metadata": {},
   "source": [
    "<div class=\"well\">Crear <strong>Filtros</strong> del DataFrame con: (visualizar solo 5 primeros)\n",
    "   \n",
    "   1.-Selección de los <strong>hombres</strong> que abordaron el titanic.\n",
    "   \n",
    "   2.-Selección de las <strong>mujeres</strong> que abordaron el titanic.\n",
    "    \n",
    "   3.-Personas con <strong>mas de 30 años</strong> que abordaron el titanic.\n",
    "    \n",
    "   4.-Personas que <strong>pertenecen a la clase 1 y 2</strong> del titanic.\n",
    "    \n",
    "   5.-Personas que <strong>registraron su edad.</strong>\n",
    "   \n",
    "    \n",
    "</div>"
   ]
  },
  {
   "cell_type": "markdown",
   "metadata": {},
   "source": [
    "<center> <h3>SOLUCIÓN</h3> </center> "
   ]
  },
  {
   "cell_type": "code",
   "execution_count": 1,
   "metadata": {},
   "outputs": [
    {
     "name": "stdout",
     "output_type": "stream",
     "text": [
      "Hombres que abordaron el Titanic:\n",
      "Empty DataFrame\n",
      "Columns: [Id_Pasajero, Survived, Clase, Nombre, Sexo, Edad, Familiares, Tiquete, Tarifa, Cabina, Embarcado]\n",
      "Index: []\n",
      "\n",
      "Mujeres que abordaron el Titanic:\n",
      "Empty DataFrame\n",
      "Columns: [Id_Pasajero, Survived, Clase, Nombre, Sexo, Edad, Familiares, Tiquete, Tarifa, Cabina, Embarcado]\n",
      "Index: []\n",
      "\n",
      "Personas con más de 30 años que abordaron el Titanic:\n",
      "    Id_Pasajero  Survived  Clase  \\\n",
      "1             2         1      1   \n",
      "3             4         1      1   \n",
      "4             5         0      3   \n",
      "6             7         0      1   \n",
      "11           12         1      1   \n",
      "\n",
      "                                               Nombre       Sexo  Edad  \\\n",
      "1   Cumings, Mrs. John Bradley (Florence Briggs Th...   Femenino  38.0   \n",
      "3        Futrelle, Mrs. Jacques Heath (Lily May Peel)   Femenino  35.0   \n",
      "4                            Allen, Mr. William Henry  Masculino  35.0   \n",
      "6                             McCarthy, Mr. Timothy J  Masculino  54.0   \n",
      "11                           Bonnell, Miss. Elizabeth   Femenino  58.0   \n",
      "\n",
      "    Familiares   Tiquete  Tarifa Cabina Embarcado  \n",
      "1            0  PC 17599   71.28    C85         C  \n",
      "3            0    113803   53.10   C123         S  \n",
      "4            0    373450    8.05    NaN         S  \n",
      "6            0     17463   51.86    E46         S  \n",
      "11           0    113783   26.55   C103         S  \n",
      "\n",
      "Personas que pertenecen a la clase 1 y 2 del Titanic:\n",
      "    Id_Pasajero  Survived  Clase  \\\n",
      "1             2         1      1   \n",
      "3             4         1      1   \n",
      "6             7         0      1   \n",
      "9            10         1      2   \n",
      "11           12         1      1   \n",
      "\n",
      "                                               Nombre       Sexo  Edad  \\\n",
      "1   Cumings, Mrs. John Bradley (Florence Briggs Th...   Femenino  38.0   \n",
      "3        Futrelle, Mrs. Jacques Heath (Lily May Peel)   Femenino  35.0   \n",
      "6                             McCarthy, Mr. Timothy J  Masculino  54.0   \n",
      "9                 Nasser, Mrs. Nicholas (Adele Achem)   Femenino  14.0   \n",
      "11                           Bonnell, Miss. Elizabeth   Femenino  58.0   \n",
      "\n",
      "    Familiares   Tiquete  Tarifa Cabina Embarcado  \n",
      "1            0  PC 17599   71.28    C85         C  \n",
      "3            0    113803   53.10   C123         S  \n",
      "6            0     17463   51.86    E46         S  \n",
      "9            0    237736   30.07    NaN         C  \n",
      "11           0    113783   26.55   C103         S  \n",
      "\n",
      "Personas que registraron su edad:\n",
      "   Id_Pasajero  Survived  Clase  \\\n",
      "0            1         0      3   \n",
      "1            2         1      1   \n",
      "2            3         1      3   \n",
      "3            4         1      1   \n",
      "4            5         0      3   \n",
      "\n",
      "                                              Nombre       Sexo  Edad  \\\n",
      "0                            Braund, Mr. Owen Harris  Masculino  22.0   \n",
      "1  Cumings, Mrs. John Bradley (Florence Briggs Th...   Femenino  38.0   \n",
      "2                             Heikkinen, Miss. Laina   Femenino  26.0   \n",
      "3       Futrelle, Mrs. Jacques Heath (Lily May Peel)   Femenino  35.0   \n",
      "4                           Allen, Mr. William Henry  Masculino  35.0   \n",
      "\n",
      "   Familiares           Tiquete  Tarifa Cabina Embarcado  \n",
      "0           0         A/5 21171    7.25    NaN         S  \n",
      "1           0          PC 17599   71.28    C85         C  \n",
      "2           0  STON/O2. 3101282    7.93    NaN         S  \n",
      "3           0            113803   53.10   C123         S  \n",
      "4           0            373450    8.05    NaN         S  \n"
     ]
    }
   ],
   "source": [
    "import pandas as pd\n",
    "\n",
    "# Cargar los datos del Titanic desde un archivo Excel (.xlsx)\n",
    "df = pd.read_excel(\"data/titanic.xlsx\")\n",
    "\n",
    "# 1. Selección de los hombres que abordaron el Titanic\n",
    "hombres = df[df['Sexo'] == 'male'].head()\n",
    "print(\"Hombres que abordaron el Titanic:\")\n",
    "print(hombres)\n",
    "\n",
    "# 2. Selección de las mujeres que abordaron el Titanic\n",
    "mujeres = df[df['Sexo'] == 'female'].head()\n",
    "print(\"\\nMujeres que abordaron el Titanic:\")\n",
    "print(mujeres)\n",
    "\n",
    "# 3. Personas con más de 30 años que abordaron el Titanic\n",
    "mayores_30 = df[df['Edad'] > 30].head()\n",
    "print(\"\\nPersonas con más de 30 años que abordaron el Titanic:\")\n",
    "print(mayores_30)\n",
    "\n",
    "# 4. Personas que pertenecen a la clase 1 y 2 del Titanic\n",
    "clase_1_2 = df[df['Clase'].isin([1, 2])].head()\n",
    "print(\"\\nPersonas que pertenecen a la clase 1 y 2 del Titanic:\")\n",
    "print(clase_1_2)\n",
    "\n",
    "# 5. Personas que registraron su edad\n",
    "con_edad = df[df['Edad'].notnull()].head()\n",
    "print(\"\\nPersonas que registraron su edad:\")\n",
    "print(con_edad)"
   ]
  },
  {
   "cell_type": "markdown",
   "metadata": {},
   "source": [
    "### Ejercicio 4 - Investigar Como?  Seleccionar Filas y Columnas"
   ]
  },
  {
   "cell_type": "markdown",
   "metadata": {},
   "source": [
    "<div class=\"well\">Crear <strong>Selección</strong> del DataFrame con: \n",
    "   \n",
    "   1.-Selección de los <strong>nombres</strong> de pasajeros <strong>mayores de 30 años.</strong>\n",
    "   \n",
    "   2.-Selección de los <strong>nombres</strong> de las <strong>mujeres</strong> que tienen familiares que abordaron el titanic.\n",
    "    \n",
    "   3.-Selección de las <strong>filas 0 a 10 y las columnas 2 a 6.</strong>\n",
    "    \n",
    "   \n",
    "</div>"
   ]
  },
  {
   "cell_type": "markdown",
   "metadata": {},
   "source": [
    "<center> <h3>SOLUCIÓN</h3> </center> "
   ]
  },
  {
   "cell_type": "code",
   "execution_count": null,
   "metadata": {},
   "outputs": [],
   "source": [
    "#1.-Selección de los nombres de pasajeros mayores de 30 años.\n",
    "import pandas as pd\n",
    "xlsx=\"data/titanic.xlsx\"\n",
    "df=pd.read_excel(xlsx)\n",
    "print(df)"
   ]
  },
  {
   "cell_type": "code",
   "execution_count": null,
   "metadata": {},
   "outputs": [],
   "source": [
    "import pandas as pd\n",
    "xlsx=\"data/titanic.xlsx\"\n",
    "df=pd.read_excel(xlsx)\n",
    "df=df[df[\"Edad\"]>30]\n",
    "losquecumplen=df[\"Edad\"]\n",
    "print(losquecumplen)"
   ]
  },
  {
   "cell_type": "code",
   "execution_count": null,
   "metadata": {},
   "outputs": [],
   "source": [
    "#2.-Selección de los nombres de las mujeres que tienen familiares que abordaron el titanic.\n",
    "import pandas as pd\n",
    "\n",
    "# Set the path to the XLSX file\n",
    "xlsx_file_path = \"data/titanic.xlsx\"\n",
    "\n",
    "# Read the XLSX file into a Pandas DataFrame\n",
    "df = pd.read_excel(xlsx_file_path)\n",
    "\n",
    "# Filter the DataFrame by age and location\n",
    "df = df[(df[\"Sexo\"] == 'Femenino') & (df[\"Familiares\"] >0)]\n",
    "\n",
    "# Print the DataFrame\n",
    "print(df)"
   ]
  },
  {
   "cell_type": "code",
   "execution_count": null,
   "metadata": {},
   "outputs": [],
   "source": [
    "#3.-Selección de las filas 0 a 10 y las columnas 2 a 6.\n",
    "import pandas as pd\n",
    "\n",
    "# Read the Excel file\n",
    "df = pd.read_excel(\"data/titanic.xlsx\")\n",
    "\n",
    "# Select rows 0 to 10\n",
    "df = df.iloc[0:10]\n",
    "\n",
    "# Select columns 2 to 6\n",
    "df = df.iloc[:, 2:6]\n",
    "\n",
    "# Print the selected data\n",
    "print(df)"
   ]
  },
  {
   "cell_type": "markdown",
   "metadata": {},
   "source": [
    "### Ejercicio 5 - Investigar Como?  "
   ]
  },
  {
   "cell_type": "markdown",
   "metadata": {},
   "source": [
    "<div class=\"well\">Hallar los <strong>Valores</strong> del DataFrame: \n",
    "   \n",
    "   1.-<strong>Valor promedio</strong> de la edad de los pasajeros.\n",
    "   \n",
    "   2.-Pasajeros <strong>mujeres</strong> con <strong>mayor edad</strong> que abordaron el titanic.\n",
    "    \n",
    "   3.-Pasajeros <strong>mujeres</strong> con <strong>menor edad</strong> que abordaron el titanic.\n",
    "    \n",
    "   4.-Número <strong>total de pasajeros</strong> registrados en el titanic\n",
    "    \n",
    "   \n",
    "</div>"
   ]
  },
  {
   "cell_type": "markdown",
   "metadata": {},
   "source": [
    "<center> <h3>SOLUCIÓN</h3> </center> "
   ]
  },
  {
   "cell_type": "code",
   "execution_count": null,
   "metadata": {},
   "outputs": [],
   "source": [
    "import pandas as pd\n",
    "import numpy as np"
   ]
  },
  {
   "cell_type": "code",
   "execution_count": null,
   "metadata": {},
   "outputs": [],
   "source": [
    "data = pd.read_csv(\"data/titanic_comma.csv\")"
   ]
  },
  {
   "cell_type": "code",
   "execution_count": null,
   "metadata": {},
   "outputs": [],
   "source": [
    "edad = data[\"Age\"]\n",
    "print(\"1) La edad promedio es:\", edad.mean())"
   ]
  },
  {
   "cell_type": "code",
   "execution_count": null,
   "metadata": {},
   "outputs": [],
   "source": [
    "mujeres = data[data[\"Sex\"]==\"female\"]\n",
    "mujeres_1 = mujeres.sort_values(by=\"Age\")\n",
    "mujeres_2 = mujeres_1[mujeres_1[\"Age\"].notna()]"
   ]
  },
  {
   "cell_type": "code",
   "execution_count": null,
   "metadata": {},
   "outputs": [],
   "source": [
    "print(\"2) Las mujeres con mayor edad: \")\n",
    "mujeres_2.tail(10)"
   ]
  },
  {
   "cell_type": "code",
   "execution_count": null,
   "metadata": {},
   "outputs": [],
   "source": [
    "print(\"3) Las mujeres con menor edad: \")\n",
    "mujeres_2.head(10)"
   ]
  },
  {
   "cell_type": "code",
   "execution_count": null,
   "metadata": {},
   "outputs": [],
   "source": [
    "data.shape"
   ]
  },
  {
   "cell_type": "code",
   "execution_count": null,
   "metadata": {},
   "outputs": [],
   "source": [
    "print(\"4) Se registraron 1313 pasajeros en el Titanic\")"
   ]
  },
  {
   "cell_type": "markdown",
   "metadata": {},
   "source": [
    "![linea 2](https://user-images.githubusercontent.com/19308295/115926262-2fb62980-a448-11eb-8189-c2f10e499944.png)"
   ]
  },
  {
   "cell_type": "markdown",
   "metadata": {},
   "source": [
    "<div style=\"text-align: center;\">\n",
    "    <h1><font color=\"#33A5FF\">BIBLIOGRAFÍA</font></h1>\n",
    "</div>\n"
   ]
  },
  {
   "cell_type": "markdown",
   "metadata": {},
   "source": [
    "[1] Guía de pandas oficial: https://pandas.pydata.org/docs/user_guide/index.html\n",
    "\n",
    "[2] Python Pandas Tutorial: A Complete Introduction for Beginners https://bit.ly/2AQMQld\n",
    "\n",
    "[3] Guía para pandas: https://pybonacci.org/2014/05/30/pandas-i/\n",
    "\n",
    "[4] Dataset variados: https://www.kaggle.com/datasets\n",
    "\n",
    "[5] Probabilidad y estadística (introductorio a medio) Diez, D., Barr, C., Çetinkaya-Rundel, M. (2015). OpenIntro Statistics, segunda edición. OpenIntro. https://www.openintro.org/stat/textbook.php?stat_book=os\n",
    "\n",
    "[6] Probabilidad y estadística (medio a avanzado) Navarro, D. (2015). Learning statistics with R: A tutorial for psychology students and other beginners. University of Adelaide. http://www.fon.hum.uva.nl/paul/lot2015/Navarro2014.pdf\n",
    "\n",
    "[7] R aplicado a Data Science Peng, R. D. (2016). R Programming for Data Science. Leanpub. https://leanpub.com/rprogramming\n",
    "\n",
    "[8] Programación con R (avanzado) Wickham. H. y Grolemund, G. (2017). R for Data Science. O’Reilly. http://r4ds.had.co.nz/ \n",
    "\n",
    "[9] Wickham, H. (2014). Tidy Data. Journal of Statistical Software. https://www.jstatsoft.org/article/view/v059i10/v59i10.pdf \n",
    "\n",
    "[10] Wickham, H. (2014). Advanced R. O’Reilly. http://adv-r.had.co.nz/\n",
    "\n",
    "\n",
    "[11] Referencias sobre RStudio RStudio Cheat Sheets. https://www.rstudio.com/resources/cheatsheets/\n",
    "\n",
    "[12] Seaborn https://seaborn.pydata.org/#"
   ]
  },
  {
   "cell_type": "markdown",
   "metadata": {},
   "source": [
    "![linea 1](https://user-images.githubusercontent.com/19308295/115926252-2b8a0c00-a448-11eb-9d9c-b43beaf0ff68.png)"
   ]
  }
 ],
 "metadata": {
  "kernelspec": {
   "display_name": "Python 3",
   "language": "python",
   "name": "python3"
  },
  "language_info": {
   "codemirror_mode": {
    "name": "ipython",
    "version": 3
   },
   "file_extension": ".py",
   "mimetype": "text/x-python",
   "name": "python",
   "nbconvert_exporter": "python",
   "pygments_lexer": "ipython3",
   "version": "3.13.9"
  }
 },
 "nbformat": 4,
 "nbformat_minor": 4
}
